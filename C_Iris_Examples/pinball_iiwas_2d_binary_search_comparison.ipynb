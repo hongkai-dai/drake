{
 "cells": [
  {
   "cell_type": "code",
   "execution_count": 1,
   "metadata": {},
   "outputs": [],
   "source": [
    "%load_ext autoreload"
   ]
  },
  {
   "cell_type": "code",
   "execution_count": 2,
   "metadata": {},
   "outputs": [],
   "source": [
    "import numpy as np\n",
    "from functools import partial\n",
    "import visualizations_utils as viz_utils\n",
    "from iris_plant_visualizer import IrisPlantVisualizer\n",
    "import ipywidgets as widgets\n",
    "from IPython.display import display\n",
    "from scipy.linalg import block_diag\n",
    "import matplotlib.pyplot as plt\n",
    "import cdd\n",
    "import logging\n",
    "from scipy.linalg import block_diag"
   ]
  },
  {
   "cell_type": "code",
   "execution_count": 3,
   "metadata": {},
   "outputs": [],
   "source": [
    "#pydrake imports\n",
    "from pydrake.common import FindResourceOrThrow\n",
    "from pydrake.multibody.parsing import Parser\n",
    "from pydrake.multibody.plant import AddMultibodyPlantSceneGraph\n",
    "from pydrake.systems.framework import DiagramBuilder\n",
    "from pydrake.geometry import Role, GeometrySet, CollisionFilterDeclaration\n",
    "from pydrake.solvers import mathematicalprogram as mp\n",
    "from pydrake.all import RigidTransform, RollPitchYaw, RevoluteJoint\n",
    "from pydrake.all import RotationMatrix\n",
    "import time\n",
    "import pydrake.multibody.rational as rational_forward_kinematics\n",
    "from pydrake.all import RationalForwardKinematics\n",
    "from pydrake.geometry.optimization import IrisOptions, IrisInRationalConfigurationSpace, HPolyhedron, Hyperellipsoid\n",
    "from pydrake.solvers import MosekSolver, CommonSolverOption, SolverOptions"
   ]
  },
  {
   "cell_type": "code",
   "execution_count": 4,
   "metadata": {},
   "outputs": [],
   "source": [
    "from pydrake.geometry.optimization_dev import (CspaceFreePolytope, \n",
    "                                               FindPolytopeGivenLagrangianOptions, \n",
    "                                               FindSeparationCertificateGivenPolytopeOptions, \n",
    "                                               BilinearAlternationOptions,\n",
    "                                               BinarySearchOptions,\n",
    "                                               SeparatingPlaneOrder,\n",
    "                                               EllipsoidMarginCost)"
   ]
  },
  {
   "cell_type": "code",
   "execution_count": 5,
   "metadata": {},
   "outputs": [],
   "source": [
    "import pydrake.multibody.rational_forward_kinematics as rat_fwd\n",
    "from pydrake.all import RationalForwardKinematicsOld"
   ]
  },
  {
   "cell_type": "markdown",
   "metadata": {},
   "source": [
    "# Build and set up the visualization the plant and the visualization of the C-space obstacle\n",
    "\n",
    "We first set up a simple 2-DOF system and visualize both the plant and the configuration constraint.Click on the two links at the bottom to view the plant and the configuration space.\n",
    "\n",
    "Note that running this cell multiple times will establish multiple meshcat instances which can fill up your memory. It is a good idea to call \"pkill -f meshcat\" from the command line before re-running this cell\n"
   ]
  },
  {
   "cell_type": "code",
   "execution_count": 6,
   "metadata": {},
   "outputs": [],
   "source": [
    "# #construct our robot\n",
    "# builder = DiagramBuilder()\n",
    "# plant, scene_graph = AddMultibodyPlantSceneGraph(builder, time_step=0.001)\n",
    "# parser = Parser(plant)\n",
    "# oneDOF_iiwa_asset = FindResourceOrThrow(\"drake/C_Iris_Examples/assets/oneDOF_iiwa7_with_box_collision.sdf\")\n",
    "\n",
    "# box_asset = FindResourceOrThrow(\"drake/C_Iris_Examples/assets/box_small.urdf\")\n",
    "\n",
    "# models = []\n",
    "# models.append(parser.AddModelFromFile(box_asset))\n",
    "# models.append(parser.AddModelFromFile(oneDOF_iiwa_asset, 'right_sweeper'))\n",
    "# models.append(parser.AddModelFromFile(oneDOF_iiwa_asset, 'left_sweeper'))\n",
    "# locs = [[0.,0.,0.],\n",
    "#         [0,1,0.85],\n",
    "#         [0,-1,0.55]]\n",
    "# plant.WeldFrames(plant.world_frame(), \n",
    "#                  plant.GetFrameByName(\"base\", models[0]),\n",
    "#                  RigidTransform(locs[0]))\n",
    "\n",
    "# t1 = RigidTransform(RollPitchYaw([np.pi/2, 0, 0]).ToRotationMatrix(), locs[1])@RigidTransform(RollPitchYaw([0, 0, np.pi/2]), np.zeros(3))\n",
    "# t2 = RigidTransform(RollPitchYaw([-np.pi/2, 0, 0]).ToRotationMatrix(), locs[2])@RigidTransform(RollPitchYaw([0, 0, np.pi/2]), np.zeros(3))\n",
    "# plant.WeldFrames(plant.world_frame(), \n",
    "#                  plant.GetFrameByName(\"iiwa_oneDOF_link_0\", models[1]), \n",
    "#                  t1)\n",
    "# plant.WeldFrames(plant.world_frame(), \n",
    "#                  plant.GetFrameByName(\"iiwa_oneDOF_link_0\", models[2]), \n",
    "#                  t2)\n",
    "\n",
    "\n",
    "# plant.Finalize()\n",
    "# idx = 0\n",
    "# q0 = [0.0, 0.0]\n",
    "# val = 1.7\n",
    "# q_low  = [-val, -val, 0]\n",
    "# q_high = [val, val,  0]\n",
    "# # set the joint limits of the plant\n",
    "# for model in models:\n",
    "#     for joint_index in plant.GetJointIndices(model):\n",
    "#         joint = plant.get_mutable_joint(joint_index)\n",
    "#         if isinstance(joint, RevoluteJoint):\n",
    "#             joint.set_default_angle(q0[idx])\n",
    "#             joint.set_position_limits(lower_limits= np.array([q_low[idx]]), upper_limits= np.array([q_high[idx]]))\n",
    "#             idx += 1\n",
    "        \n"
   ]
  },
  {
   "cell_type": "code",
   "execution_count": 7,
   "metadata": {},
   "outputs": [],
   "source": [
    "# boxes_urdf = \"\"\"\n",
    "# <robot name=\"boxes\">\n",
    "#   <link name=\"fixed\">\n",
    "#     <collision name=\"right\">\n",
    "#       <origin rpy=\"0 0 0\" xyz=\"2 0 0\"/>\n",
    "#       <geometry><box size=\"1 1 5\"/></geometry>\n",
    "#     </collision>\n",
    "#     <visual>\n",
    "#         <geometry><box size=\"1 1 5\"/></geometry>\n",
    "#         <origin rpy=\"0 0 0\" xyz=\"2 0 0\"/>\n",
    "#     </visual>\n",
    "#     <collision name=\"left\">\n",
    "#       <origin rpy=\"0 0 0\" xyz=\"-2 0 0\"/>\n",
    "#       <geometry><box size=\"1 1 5\"/></geometry>    \n",
    "#     </collision>\n",
    "#     <visual>\n",
    "#         <geometry><box size=\"1 1 5\"/></geometry>\n",
    "#         <origin rpy=\"0 0 0\" xyz=\"-2 0 0\"/>\n",
    "#     </visual>\n",
    "#   </link>\n",
    "#   <joint name=\"fixed_link_weld\" type=\"fixed\">\n",
    "#     <parent link=\"world\"/>\n",
    "#     <child link=\"fixed\"/>\n",
    "#   </joint>\n",
    "#   <link name=\"movable\">\n",
    "#     <collision name=\"center\">\n",
    "#       <geometry><box size=\"1 1 1\"/></geometry>\n",
    "#       <origin rpy=\"0 0 0\" xyz=\"0 0 2\"/>\n",
    "#     </collision>\n",
    "#     <visual>\n",
    "#         <geometry><box size=\"1 1 1\"/></geometry>\n",
    "#         <origin rpy=\"0 0 0\" xyz=\"0 0 1\"/>\n",
    "#     </visual>\n",
    "#   </link>\n",
    "#   <joint name=\"movable\" type=\"revolute\">\n",
    "#     <axis xyz=\"0 1 0\"/>\n",
    "#     <limit lower=\"-3\" upper=\"3\"/>\n",
    "#     <parent link=\"world\"/>\n",
    "#     <child link=\"movable\"/>\n",
    "#   </joint>\n",
    "# </robot>\n",
    "# \"\"\"\n",
    "\n",
    "boxes_urdf = \"\"\"\n",
    "<robot name=\"boxes\">\n",
    "  <link name=\"fixed\">\n",
    "    <collision name=\"right\">\n",
    "      <origin rpy=\"0 0 0\" xyz=\"2 0 0\"/>\n",
    "      <geometry><box size=\"1 1 5\"/></geometry>\n",
    "    </collision>\n",
    "    <visual>\n",
    "        <geometry><box size=\"1 1 5\"/></geometry>\n",
    "        <origin rpy=\"0 0 0\" xyz=\"2 0 0\"/>\n",
    "    </visual>\n",
    "  </link>\n",
    "  <joint name=\"fixed_link_weld\" type=\"fixed\">\n",
    "    <parent link=\"world\"/>\n",
    "    <child link=\"fixed\"/>\n",
    "  </joint>\n",
    "  <link name=\"movable\">\n",
    "    <collision name=\"center\">\n",
    "      <geometry><box size=\"1 1 1\"/></geometry>\n",
    "      <origin rpy=\"0 0 0\" xyz=\"0 0 2\"/>\n",
    "    </collision>\n",
    "    <visual>\n",
    "        <geometry><box size=\"1 1 1\"/></geometry>\n",
    "        <origin rpy=\"0 0 0\" xyz=\"0 0 1\"/>\n",
    "    </visual>\n",
    "  </link>\n",
    "  <joint name=\"movable\" type=\"revolute\">\n",
    "    <axis xyz=\"0 1 0\"/>\n",
    "    <limit lower=\"-3\" upper=\"3\"/>\n",
    "    <parent link=\"world\"/>\n",
    "    <child link=\"movable\"/>\n",
    "  </joint>\n",
    "</robot>\n",
    "\"\"\"\n",
    "\n",
    "\n",
    "builder = DiagramBuilder()\n",
    "plant, scene_graph = AddMultibodyPlantSceneGraph(builder, time_step=0.001)\n",
    "parser = Parser(plant)\n",
    "parser.AddModelsFromString(boxes_urdf, \"urdf\")\n",
    "plant.Finalize()"
   ]
  },
  {
   "cell_type": "code",
   "execution_count": 8,
   "metadata": {},
   "outputs": [
    {
     "name": "stderr",
     "output_type": "stream",
     "text": [
      "INFO:drake:Meshcat listening for connections at http://localhost:7000\n",
      "INFO:drake:Meshcat listening for connections at http://localhost:7001\n",
      "/home/amice/Documents/coding_projects/drake/C_Iris_Examples/iris_plant_visualizer.py:70: DrakeDeprecationWarning: (Deprecated) See ForcedPublish() \n",
      "*/ (Deprecated.)\n",
      "\n",
      "Deprecated:\n",
      "    Use ForcedPublish() instead This will be removed from Drake on or\n",
      "    after 2023-03-01.\n",
      "  self.diagram.Publish(self.diagram_context)\n"
     ]
    }
   ],
   "source": [
    "# construct the RationalForwardKinematics of this plant. This object handles the\n",
    "# computations for the forward kinematics in the tangent-configuration space\n",
    "Ratfk = RationalForwardKinematics(plant)\n",
    "\n",
    "\n",
    "# the point about which we will take the stereographic projections\n",
    "q_star = np.zeros(plant.num_positions())\n",
    "\n",
    "\n",
    "q_low = plant.GetPositionLowerLimits()\n",
    "q_high = plant.GetPositionUpperLimits()\n",
    "\n",
    "#compute limits in t-space\n",
    "limits_s = []\n",
    "for q in [q_low, q_high]:\n",
    "    limits_s.append(Ratfk.ComputeSValue(np.array(q), q_star))\n",
    "\n",
    "do_viz = True\n",
    "\n",
    "# This line builds the visualization. Change the viz_role to Role.kIllustration if you\n",
    "# want to see the plant with its illustrated geometry or to Role.kProximity if you want\n",
    "# to see the plant with the collision geometries.\n",
    "visualizer = IrisPlantVisualizer(plant, builder, scene_graph, viz_role=Role.kIllustration)\n",
    "visualizer.visualize_collision_constraint2d(factor = 1.2, num_points = 100)\n",
    "visualizer.meshcat2.Set2dRenderMode(RigidTransform(RotationMatrix.MakeZRotation(0), np.array([0,0,1])))\n",
    "# visualizer.meshcat1.Set2dRenderMode(RigidTransform(RotationMatrix.MakeZRotation(0), np.array([1,0,0])))\n",
    "\n",
    "context = visualizer.diagram_context\n",
    "diagram = visualizer.diagram"
   ]
  },
  {
   "cell_type": "markdown",
   "metadata": {},
   "source": [
    "## Set up the sliders so we can move the plant around manually\n",
    "\n",
    "You can use the sliders below to move the two degrees of freedom of the plant around. A green dot will appear in the TC-space visualization describing the current TC-space configuration."
   ]
  },
  {
   "cell_type": "code",
   "execution_count": 9,
   "metadata": {
    "scrolled": false
   },
   "outputs": [
    {
     "data": {
      "application/vnd.jupyter.widget-view+json": {
       "model_id": "5f0ca05ba6154efa982fe223b4a1087e",
       "version_major": 2,
       "version_minor": 0
      },
      "text/plain": [
       "FloatSlider(value=0.0, description='q0', max=3.0, min=-3.0)"
      ]
     },
     "metadata": {},
     "output_type": "display_data"
    }
   ],
   "source": [
    "sliders = [widgets.FloatSlider(min=q_low[0], max=q_high[0], value=0, description=f'q{i}') for i in range(plant.num_positions())]\n",
    "\n",
    "\n",
    "q = q_star\n",
    "def handle_slider_change(change, idx):\n",
    "    q[idx] = change['new']\n",
    "    #print(q, end=\"\\r\")\n",
    "    visualizer.showres(q)\n",
    "    visualizer.visualize_planes()\n",
    "    \n",
    "idx = 0\n",
    "for slider in sliders:\n",
    "    slider.observe(partial(handle_slider_change, idx = idx), names='value')\n",
    "    idx+=1\n",
    "\n",
    "for slider in sliders:\n",
    "    display(slider)\n"
   ]
  },
  {
   "cell_type": "code",
   "execution_count": 10,
   "metadata": {
    "scrolled": true
   },
   "outputs": [],
   "source": [
    "# # filter fused joints self collisions so they don't interfere with collision engine\n",
    "# digaram = visualizer.diagram\n",
    "# context = visualizer.diagram_context\n",
    "# sg_context = scene_graph.GetMyContextFromRoot(context)\n",
    "# inspector = scene_graph.model_inspector()\n",
    "\n",
    "# pairs = scene_graph.get_query_output_port().Eval(sg_context).inspector().GetCollisionCandidates()\n",
    "\n",
    "# gids = [gid for gid in inspector.GetGeometryIds(GeometrySet(inspector.GetAllGeometryIds()), Role.kProximity)]\n",
    "# get_name_of_gid = lambda gid : inspector.GetName(gid)\n",
    "# gids.sort(key=get_name_of_gid)\n",
    "# right_sweeper_gids = [gid for gid in gids if \"right_sweeper::\" in get_name_of_gid(gid)]\n",
    "# left_sweeper_gids = [gid for gid in gids if \"left_sweeper::\" in get_name_of_gid(gid)]\n",
    "\n",
    "# right_sweeper_fused_col_geom = right_sweeper_gids[2:]\n",
    "# right_sweeper_fused_set = GeometrySet(right_sweeper_fused_col_geom)\n",
    "# left_sweeper_fused_col_geom = left_sweeper_gids[4:]\n",
    "# left_sweeper_fused_set = GeometrySet(left_sweeper_fused_col_geom)\n",
    "# scene_graph.collision_filter_manager()\\\n",
    "#             .Apply(CollisionFilterDeclaration().ExcludeWithin(right_sweeper_fused_set))\n",
    "# scene_graph.collision_filter_manager()\\\n",
    "#             .Apply(CollisionFilterDeclaration().ExcludeWithin(left_sweeper_fused_set))\n",
    "\n",
    "# right_sweeper_end_gid = right_sweeper_gids[-1]\n",
    "# left_sweeper_end_gid = left_sweeper_gids[-1]\n",
    "# id_pairs_of_interest = [(right_sweeper_end_gid, left_sweeper_end_gid),\n",
    "#                        ]\n",
    "# visualizer.collision_pairs_of_interest = id_pairs_of_interest\n"
   ]
  },
  {
   "cell_type": "markdown",
   "metadata": {},
   "source": [
    "# Generate and Certify Regions\n",
    "\n",
    "Around some nominal seed postures, we will grow certified regions by seeding our alternation algorithm using a small initial polytope."
   ]
  },
  {
   "cell_type": "code",
   "execution_count": 11,
   "metadata": {},
   "outputs": [],
   "source": [
    "# Some seedpoints\n",
    "# seed_points_q = np.array([   [0.0, 0],\n",
    "#                               [0.7, -0.9],\n",
    "#                               [-0.5, -0.5],\n",
    "#                               [0.4,-1.3]\n",
    "#                               ])\n",
    "seed_points_q = np.array([[0]])\n",
    "\n",
    "seed_points = np.array([Ratfk.ComputeSValue(seed_points_q[idx], q_star)\\\n",
    "                        for idx in range(seed_points_q.shape[0])])\n",
    "if do_viz:\n",
    "    visualizer.plot_seedpoints(seed_points)\n",
    "    \n",
    "\n",
    "\n",
    "default_scale = 1e-2\n",
    "L1_ball = HPolyhedron.MakeL1Ball(2)\n",
    "Linf_ball = HPolyhedron.MakeBox(-np.ones(2), np.ones(2))\n",
    "\n",
    "template_C = np.vstack([L1_ball.A(), Linf_ball.A()])\n",
    "template_d = np.hstack([default_scale*L1_ball.b(), default_scale/np.sqrt(2)*Linf_ball.b()])\n",
    "\n",
    "\n",
    "def make_default_polytope_at_point(seed_point):\n",
    "    return HPolyhedron(template_C, template_d + template_C @ seed_point)\n",
    "\n",
    "\n",
    "# colors to plot the region. Chosen for color-blind compatibility\n",
    "colors_dict = {\n",
    "    0: (144,144,144),\n",
    "    1:(30,136,229), # bluish\n",
    "    2: (255, 193, 7), # gold\n",
    "    3: (0, 140, 6), # green    \n",
    "}"
   ]
  },
  {
   "cell_type": "markdown",
   "metadata": {},
   "source": [
    "## Seeding and Certifying with a Stronger Heuristic\n",
    "We have also implemented another, strong heuristic for proposing good initial regions based on non-linear optimization. See Appendix TODO of our paper TODO for details"
   ]
  },
  {
   "cell_type": "code",
   "execution_count": 12,
   "metadata": {},
   "outputs": [],
   "source": [
    "iris_regions = []\n",
    "iris_ellipses = []\n",
    "\n",
    "iris_options = IrisOptions()\n",
    "iris_options.require_sample_point_is_contained = True\n",
    "iris_options.configuration_space_margin = 1e-5\n",
    "iris_options.relative_termination_threshold = 0.001\n",
    "iris_options.num_collision_infeasible_samples = 5\n",
    "\n",
    "def promote_region_to_3d(region, width = 0.2):\n",
    "    A = block_diag(region.A(), np.array([-1,1])[:, np.newaxis])\n",
    "    b = np.append(region.b(), width*np.ones(2))\n",
    "\n",
    "    return HPolyhedron(A,b)\n",
    "    \n",
    "for i, s in enumerate(seed_points):\n",
    "    q = Ratfk.ComputeQValue(s, q_star)\n",
    "    plant.SetPositions(plant.GetMyMutableContextFromRoot(context), q)\n",
    "    r = IrisInRationalConfigurationSpace(plant, \n",
    "                                         plant.GetMyContextFromRoot(context), \n",
    "                                         q_star, \n",
    "                                         iris_options)\n",
    "    iris_regions.append(r)\n",
    "#     iris_ellipses.append(r.MaximumVolumeInscribedEllipsoid)\n",
    "    \n",
    "\n",
    "if do_viz:\n",
    "    regions_to_viz = iris_regions.copy()\n",
    "    if q_star.shape[0] == 1:\n",
    "        for i, r in enumerate(regions_to_viz):\n",
    "            Ay = np.array([[1],[-1]])\n",
    "            by = 5*np.ones(2)\n",
    "            tmp = HPolyhedron(block_diag(r.A(), Ay), np.append(r.b(), by))\n",
    "            regions_to_viz[i] = tmp\n",
    "    visualizer.plot_regions(regions_to_viz,\n",
    "                            region_suffix='_iris_regions',\n",
    "                            colors = list(colors_dict.values()),\n",
    "                            wireframe = False,\n",
    "                           opacity = 0.2)"
   ]
  },
  {
   "cell_type": "code",
   "execution_count": 13,
   "metadata": {},
   "outputs": [
    {
     "data": {
      "text/plain": [
       "array([14.10141995, 14.10141995,  0.21921359,  5.        ,  5.        ])"
      ]
     },
     "execution_count": 13,
     "metadata": {},
     "output_type": "execute_result"
    }
   ],
   "source": [
    "regions_to_viz[0].b()"
   ]
  },
  {
   "cell_type": "code",
   "execution_count": 14,
   "metadata": {},
   "outputs": [],
   "source": [
    "# set up the certifier and the options for different search techniques\n",
    "solver_options = SolverOptions()\n",
    "solver_options.SetOption(CommonSolverOption.kPrintToConsole, 0)\n",
    "\n",
    "\n",
    "find_polytope_given_lagrangian_option = FindPolytopeGivenLagrangianOptions()\n",
    "find_polytope_given_lagrangian_option.solver_options = solver_options\n",
    "find_polytope_given_lagrangian_option.ellipsoid_margin_cost = EllipsoidMarginCost.kGeometricMean\n",
    "find_polytope_given_lagrangian_option.search_s_bounds_lagrangians = False\n",
    "\n",
    "find_separation_certificate_given_polytope_options = FindSeparationCertificateGivenPolytopeOptions()\n",
    "find_separation_certificate_given_polytope_options.num_threads = -1\n",
    "find_separation_certificate_given_polytope_options.verbose = False\n",
    "find_separation_certificate_given_polytope_options.solver_options = solver_options\n",
    "find_separation_certificate_given_polytope_options.ignore_redundant_C = True\n",
    "\n",
    "bilinear_alternation_options = BilinearAlternationOptions()\n",
    "bilinear_alternation_options.max_iter = 20\n",
    "bilinear_alternation_options.convergence_tol = 1e-5\n",
    "bilinear_alternation_options.find_polytope_options = find_polytope_given_lagrangian_option\n",
    "bilinear_alternation_options.find_lagrangian_options = find_separation_certificate_given_polytope_options\n",
    "\n",
    "binary_search_options = BinarySearchOptions()\n",
    "binary_search_options.find_lagrangian_options = find_separation_certificate_given_polytope_options\n",
    "binary_search_options.scale_min = 1\n",
    "binary_search_options.scale_max = 100\n",
    "binary_search_options.max_iter = 50\n",
    "\n",
    "\n",
    "cspace_free_polytope = CspaceFreePolytope(plant, scene_graph, SeparatingPlaneOrder.kAffine, q_star)"
   ]
  },
  {
   "cell_type": "code",
   "execution_count": 15,
   "metadata": {},
   "outputs": [],
   "source": [
    "# set up old certifier\n",
    "cspace_free_region_certifier = rat_fwd.CspaceFreeRegion(diagram, plant, scene_graph,\n",
    "                                   rat_fwd.SeparatingPlaneOrderOld.kAffine,\n",
    "                                   rat_fwd.CspaceRegionType.kGenericPolytope)"
   ]
  },
  {
   "cell_type": "code",
   "execution_count": 16,
   "metadata": {},
   "outputs": [
    {
     "data": {
      "text/plain": [
       "array([[ 1.],\n",
       "       [-1.],\n",
       "       [ 1.]])"
      ]
     },
     "execution_count": 16,
     "metadata": {},
     "output_type": "execute_result"
    }
   ],
   "source": [
    "iris_regions[0].A()"
   ]
  },
  {
   "cell_type": "code",
   "execution_count": 17,
   "metadata": {},
   "outputs": [
    {
     "name": "stdout",
     "output_type": "stream",
     "text": [
      "8\n",
      "8\n"
     ]
    }
   ],
   "source": [
    "plane_vars = cspace_free_polytope.separating_planes()\n",
    "for p in plane_vars:\n",
    "    print(p.positive_side_geometry.num_rationals())\n",
    "    print(p.negative_side_geometry.num_rationals())\n"
   ]
  },
  {
   "cell_type": "markdown",
   "metadata": {},
   "source": [
    "### These regions tend to be very large, but typically are not completely collision free. We can use the binary search method to find a uniform shrinking of these regions to prove their safety and then again improve them with bilinear alternations."
   ]
  },
  {
   "cell_type": "code",
   "execution_count": 18,
   "metadata": {},
   "outputs": [],
   "source": [
    "binary_search_options_for_iris = BinarySearchOptions()\n",
    "binary_search_options_for_iris.find_lagrangian_options = find_separation_certificate_given_polytope_options\n",
    "binary_search_options_for_iris.max_iter = 50"
   ]
  },
  {
   "cell_type": "code",
   "execution_count": 19,
   "metadata": {},
   "outputs": [
    {
     "name": "stderr",
     "output_type": "stream",
     "text": [
      "INFO:drake:CspaceFreePolytope::BinarySearch(): scale=0.505 is feasible\n"
     ]
    },
    {
     "name": "stdout",
     "output_type": "stream",
     "text": [
      "starting seedpoint 1/1\n"
     ]
    },
    {
     "name": "stderr",
     "output_type": "stream",
     "text": [
      "INFO:drake:CspaceFreePolytope::BinarySearch(): scale=0.7525 is feasible\n",
      "INFO:drake:CspaceFreePolytope::BinarySearch(): scale=0.87625 is feasible\n",
      "INFO:drake:CspaceFreePolytope::BinarySearch(): scale=0.938125 is feasible\n",
      "INFO:drake:CspaceFreePolytope::BinarySearch(): scale=0.9690624999999999 is feasible\n",
      "INFO:drake:CspaceFreePolytope::BinarySearch(): scale=0.98453125 is infeasible\n",
      "INFO:drake:CspaceFreePolytope::BinarySearch(): scale=0.976796875 is feasible\n",
      "INFO:drake:CspaceFreePolytope::BinarySearch(): scale=0.9806640625 is infeasible\n",
      "INFO:drake:CspaceFreePolytope::BinarySearch(): scale=0.97873046875 is infeasible\n",
      "INFO:drake:CspaceFreePolytope::BinarySearch(): scale=0.977763671875 is infeasible\n"
     ]
    }
   ],
   "source": [
    "binary_search_region_certificates_for_iris = dict.fromkeys([tuple(s) for s in seed_points])\n",
    "bin_sect_regions = []\n",
    "for i, (s, initial_region) in enumerate(zip(seed_points, iris_regions)):\n",
    "    print(f\"starting seedpoint {i+1}/{len(iris_regions)}\")\n",
    "    certificate = cspace_free_polytope.BinarySearch(set(),\n",
    "                                                    initial_region.A(),\n",
    "                                                    initial_region.b(), \n",
    "                                                    initial_region.MaximumVolumeInscribedEllipsoid().center(), \n",
    "                                                    binary_search_options_for_iris)\n",
    "    bin_sect_regions.append(HPolyhedron(certificate.C, certificate.d))\n",
    "    binary_search_region_certificates_for_iris[tuple(s)] = [HPolyhedron(certificate.C, certificate.d)]"
   ]
  },
  {
   "cell_type": "code",
   "execution_count": 20,
   "metadata": {},
   "outputs": [],
   "source": [
    "if do_viz:\n",
    "    visualizer.plot_regions(bin_sect_regions, ellipses=None,\n",
    "                            region_suffix='_new_bin_search',\n",
    "                            wireframe = False)"
   ]
  },
  {
   "cell_type": "markdown",
   "metadata": {},
   "source": [
    "## Now compare to the old methods"
   ]
  },
  {
   "cell_type": "code",
   "execution_count": 21,
   "metadata": {},
   "outputs": [
    {
     "name": "stderr",
     "output_type": "stream",
     "text": [
      "WARNING:drake:Cannot find Lagrangian multiplier and separating planes for \n",
      "(boxes::right, boxes::center)\n",
      "\n"
     ]
    },
    {
     "name": "stdout",
     "output_type": "stream",
     "text": [
      "0\n"
     ]
    },
    {
     "name": "stderr",
     "output_type": "stream",
     "text": [
      "INFO:drake:Found Lagrangian multiplier and separating planes\n",
      "INFO:drake:max(power(det(P), 1/1))=6.94110313943766, solver_time 0.0007203539862530306\n",
      "INFO:drake:backoff with power(det(P), 1/1)=6.93553221205488, solver time 0.000898129990673624\n",
      "INFO:drake:Found Lagrangian multiplier and separating planes\n",
      "INFO:drake:max(power(det(P), 1/1))=7.050709911292838, solver_time 0.0006920400046510622\n",
      "INFO:drake:backoff with power(det(P), 1/1)=7.045067747560477, solver time 0.0005550219939323142\n",
      "INFO:drake:epsilon=-0.10960679679590041 is feasible\n",
      "INFO:drake:reset eps_min=0.0, eps_max=0.10960679679590041\n",
      "INFO:drake:Found Lagrangian multiplier and separating planes\n",
      "INFO:drake:max(power(det(P), 1/1))=7.1055133416654295, solver_time 0.0007781539898132905\n",
      "INFO:drake:backoff with power(det(P), 1/1)=7.0998577098398705, solver time 0.0007113210012903437\n",
      "INFO:drake:epsilon=0.054803398397950204 is feasible\n",
      "INFO:drake:reset eps_min=0.0, eps_max=0.054803398397950204\n",
      "INFO:drake:Found Lagrangian multiplier and separating planes\n",
      "INFO:drake:max(power(det(P), 1/1))=7.132915070668801, solver_time 0.0008362689986824989\n",
      "INFO:drake:backoff with power(det(P), 1/1)=7.127159821447804, solver time 0.0007914439920568839\n",
      "INFO:drake:epsilon=0.027401699198975102 is feasible\n",
      "INFO:drake:reset eps_min=0.0, eps_max=0.027401699198975393\n",
      "INFO:drake:Found Lagrangian multiplier and separating planes\n",
      "INFO:drake:max(power(det(P), 1/1))=7.146615920401915, solver_time 0.0015557330043520778\n",
      "INFO:drake:backoff with power(det(P), 1/1)=7.140759673023135, solver time 0.0007552919996669516\n",
      "INFO:drake:epsilon=0.013700849599487697 is feasible\n",
      "INFO:drake:reset eps_min=0.0, eps_max=0.013700849599487697\n",
      "INFO:drake:Found Lagrangian multiplier and separating planes\n",
      "INFO:drake:max(power(det(P), 1/1))=7.153466303501263, solver_time 0.0005450519965961576\n",
      "INFO:drake:backoff with power(det(P), 1/1)=7.14752544917572, solver time 0.0008584019960835576\n",
      "INFO:drake:epsilon=0.006850424799743848 is feasible\n",
      "INFO:drake:reset eps_min=0.0, eps_max=0.006850424799743848\n",
      "INFO:drake:Found Lagrangian multiplier and separating planes\n",
      "INFO:drake:max(power(det(P), 1/1))=7.1568915378497415, solver_time 0.0008973649964900687\n",
      "INFO:drake:backoff with power(det(P), 1/1)=7.150884957434318, solver time 0.0008310799894388765\n",
      "INFO:drake:epsilon=0.003425212399871924 is feasible\n",
      "INFO:drake:reset eps_min=0.0, eps_max=0.003425212399871924\n",
      "WARNING:drake:Cannot find Lagrangian multiplier and separating planes for \n",
      "(boxes::right, boxes::center)\n",
      "\n",
      "INFO:drake:epsilon=0.001712606199935962 is infeasible\n",
      "WARNING:drake:Cannot find Lagrangian multiplier and separating planes for \n",
      "(boxes::right, boxes::center)\n",
      "\n",
      "INFO:drake:epsilon=0.000856303099967981 is infeasible\n",
      "INFO:drake:Found Lagrangian multiplier and separating planes\n",
      "INFO:drake:max(power(det(P), 1/1))=7.1573196875555345, solver_time 0.0007893560105003417\n",
      "INFO:drake:backoff with power(det(P), 1/1)=7.151302981548676, solver time 0.0007698580011492595\n",
      "INFO:drake:epsilon=0.0004281515499839905 is feasible\n",
      "INFO:drake:reset eps_min=0.0, eps_max=0.0004281515499844346\n",
      "WARNING:drake:Cannot find Lagrangian multiplier and separating planes for \n",
      "(boxes::right, boxes::center)\n",
      "\n",
      "INFO:drake:epsilon=0.0002140757749922173 is infeasible\n",
      "INFO:drake:max(power(det(P), 1/1))=7.1573196875555345, solver_time 0.0007959470094647259\n",
      "INFO:drake:backoff with power(det(P), 1/1)=7.151302981548676, solver time 0.0008438869990641251\n"
     ]
    }
   ],
   "source": [
    "i = 0\n",
    "bisect_regions = []\n",
    "bisect_solutions = []\n",
    "for i in range(len(iris_regions)):\n",
    "    print(i)\n",
    "    region_to_certify = iris_regions[i]\n",
    "    seed_point = seed_points[i,:]\n",
    "\n",
    "\n",
    "    binary_search_options_old = rat_fwd.BinarySearchOption()\n",
    "    binary_search_options_old.epsilon_max = 0 # it is very unlikely that we can find a uniform expansion of the current region\n",
    "    binary_search_options_old.max_iters = 10\n",
    "    binary_search_options_old.lagrangian_backoff_scale = 1e-3\n",
    "    binary_search_options_old.num_threads = 1\n",
    "    # speed up the bisection search by taking non-uniform steps when possible\n",
    "    binary_search_options_old.search_d = False #set false for fairness\n",
    "    # find the smallest e such that At <= b + e1 still contains our seed point.\n",
    "    binary_search_options_old.epsilon_min = rat_fwd.FindEpsilonLower(region_to_certify.A(),\n",
    "                                                                                     region_to_certify.b(),\n",
    "                                                                                     limits_s[0], limits_s[1],\n",
    "                                                                                     seed_point)\n",
    "    #use as many threads as possible to speed up computation\n",
    "#     binary_search_options.num_threads = 1\n",
    "\n",
    "    certified_region_contraction_solution = cspace_free_region_certifier.CspacePolytopeBinarySearch(\n",
    "                                                                     q_star,\n",
    "                                                                     set(),\n",
    "                                                                     region_to_certify.A(),\n",
    "                                                                     region_to_certify.b(),\n",
    "                                                                     binary_search_options_old, \n",
    "                                                                     solver_options,\n",
    "                                                                     seed_point)\n",
    "    bisect_solutions.append(certified_region_contraction_solution)\n",
    "    certified_region_contraction = HPolyhedron(certified_region_contraction_solution.C,\n",
    "                                               certified_region_contraction_solution.d)\n",
    "    \n",
    "#     bisect_regions.append(promote_region_to_3d(certified_region_contraction))\n",
    "    bisect_regions.append(certified_region_contraction)\n",
    "if do_viz:\n",
    "    visualizer.plot_regions(bisect_regions, ellipses=None,\n",
    "                            region_suffix='_old_bin_search',\n",
    "                            wireframe = False)"
   ]
  },
  {
   "cell_type": "code",
   "execution_count": 22,
   "metadata": {},
   "outputs": [
    {
     "name": "stdout",
     "output_type": "stream",
     "text": [
      "[14.10141995 14.10141995  0.21921359]\n",
      "[13.61316765 13.93527822  0.05307187]\n",
      "[14.09842289 14.09842289  0.21621653]\n"
     ]
    }
   ],
   "source": [
    "print(iris_regions[0].b())\n",
    "print(bin_sect_regions[0].b())\n",
    "print(bisect_regions[0].b())"
   ]
  },
  {
   "cell_type": "code",
   "execution_count": 23,
   "metadata": {},
   "outputs": [
    {
     "name": "stderr",
     "output_type": "stream",
     "text": [
      "INFO:drake:Found Lagrangian multiplier and separating planes\n"
     ]
    },
    {
     "name": "stdout",
     "output_type": "stream",
     "text": [
      "New code certifies new polytope as safe = True\n",
      "New code certifies old polytope as safe = False\n"
     ]
    },
    {
     "name": "stderr",
     "output_type": "stream",
     "text": [
      "INFO:drake:Lagrangian step time 0.078 s\n",
      "INFO:drake:max(power(det(P), 1/1))=6.994174990620564, solver_time 0.0013534850004361942\n",
      "INFO:drake:cost improvement inf\n",
      "INFO:drake:Iter: 0, polytope step cost -0.9739967146238272, solver time 0.0032529489981243387\n",
      "INFO:drake:max(power(det(P), 1/1))=7.091792576043216, solver_time 0.0010618259984767064\n",
      "INFO:drake:Found Lagrangian multiplier and separating planes\n",
      "INFO:drake:Lagrangian step time 0.077 s\n",
      "INFO:drake:max(power(det(P), 1/1))=7.1573196875555345, solver_time 0.0008458509983029217\n",
      "INFO:drake:cost improvement inf\n",
      "INFO:drake:mosek info 0, UnknownError\n",
      "WARNING:drake:Failed to find the polytope at iteration 0\n",
      "INFO:drake:Lagrangian SOS takes 0.0035935799969593063 seconds\n",
      "INFO:drake:max(power(det(P), 1/1))=6.994174990620564, solver_time 0.0005682649934897199\n",
      "INFO:drake:Lagrangian SOS takes 0.0020502309926087037 seconds\n",
      "INFO:drake:max(power(det(P), 1/1))=7.1573196875555345, solver_time 0.0007383730116998777\n"
     ]
    },
    {
     "name": "stdout",
     "output_type": "stream",
     "text": [
      "Old code certifies new polytope as safe = True\n",
      "Old code certifies old polytope as safe = True\n"
     ]
    }
   ],
   "source": [
    "P_new = HPolyhedron(bin_sect_regions[0].A(), bin_sect_regions[0].b())\n",
    "P_old = HPolyhedron(bisect_regions[0].A(), bisect_regions[0].b())\n",
    "\n",
    "bil_alt_old_options = rat_fwd.BilinearAlternationOption()\n",
    "bil_alt_old_options.max_iters = 1\n",
    "bil_alt_old_options.num_threads = 1\n",
    "\n",
    "print(f\"New code certifies new polytope as safe = {cspace_free_polytope.FindSeparationCertificateGivenPolytope(P_new.A(), P_new.b(), set(), find_separation_certificate_given_polytope_options)[0]}\")\n",
    "print(f\"New code certifies old polytope as safe = {cspace_free_polytope.FindSeparationCertificateGivenPolytope(P_old.A(), P_old.b(), set(), find_separation_certificate_given_polytope_options)[0]}\")\n",
    "\n",
    "old_certs_P_new = len(cspace_free_region_certifier.CspacePolytopeBilinearAlternation(q_star, set(), \n",
    "                                                               P_new.A(), P_new.b(), \n",
    "                                                               bil_alt_old_options,\n",
    "                                                              solver_options)[-1]) > 0\n",
    "old_certs_P_old = len(cspace_free_region_certifier.CspacePolytopeBilinearAlternation(q_star, set(), \n",
    "                                                               P_old.A(), P_old.b(), \n",
    "                                                               bil_alt_old_options,\n",
    "                                                              solver_options)[-1]) > 0\n",
    "\n",
    "binary_search_options_old = rat_fwd.BinarySearchOption()\n",
    "binary_search_options_old.epsilon_max = 0 # it is very unlikely that we can find a uniform expansion of the current region\n",
    "binary_search_options_old.epsilon_min = 0 # it is very unlikely that we can find a uniform expansion of the current region\n",
    "binary_search_options_old.max_iters = 1\n",
    "binary_search_options_old.search_d = False\n",
    "\n",
    "old_certs_P_new = cspace_free_region_certifier.CspacePolytopeBinarySearch(\n",
    "                                                                     q_star,\n",
    "                                                                     set(),\n",
    "                                                                     P_new.A(),\n",
    "                                                                     P_new.b(),\n",
    "                                                                     binary_search_options_old, \n",
    "                                                                     solver_options,\n",
    "                                                                     seed_point)\n",
    "old_certs_P_old = cspace_free_region_certifier.CspacePolytopeBinarySearch(\n",
    "                                                                     q_star,\n",
    "                                                                     set(),\n",
    "                                                                     P_old.A(),\n",
    "                                                                     P_old.b(),\n",
    "                                                                     binary_search_options_old, \n",
    "                                                                     solver_options,\n",
    "                                                                     seed_point)\n",
    "\n",
    "print(f\"Old code certifies new polytope as safe = {old_certs_P_new is not None}\")\n",
    "print(f\"Old code certifies old polytope as safe = {old_certs_P_old is not None}\")\n",
    "\n",
    "   "
   ]
  },
  {
   "cell_type": "code",
   "execution_count": 24,
   "metadata": {},
   "outputs": [
    {
     "name": "stderr",
     "output_type": "stream",
     "text": [
      "INFO:drake:Found Lagrangian multiplier and separating planes\n",
      "INFO:drake:Lagrangian step time 0.055 s\n",
      "INFO:drake:max(power(det(P), 1/1))=6.994174990620564, solver_time 0.000858934989082627\n",
      "INFO:drake:cost improvement inf\n",
      "INFO:drake:Iter: 0, polytope step cost -0.9739967146238272, solver time 0.0026145690062548965\n",
      "INFO:drake:max(power(det(P), 1/1))=7.091792576043216, solver_time 0.0009488750074524432\n"
     ]
    },
    {
     "data": {
      "text/plain": [
       "(<pydrake.multibody.rational_forward_kinematics.CspaceFreeRegionSolution at 0x7f4b33c7b3b0>,\n",
       " [],\n",
       " [6.99417499088471])"
      ]
     },
     "execution_count": 24,
     "metadata": {},
     "output_type": "execute_result"
    }
   ],
   "source": [
    "cspace_free_region_certifier.CspacePolytopeBilinearAlternation(q_star, set(), \n",
    "                                                               P_new.A(), P_new.b(), \n",
    "                                                               bil_alt_old_options,\n",
    "                                                              solver_options)"
   ]
  },
  {
   "cell_type": "code",
   "execution_count": 27,
   "metadata": {},
   "outputs": [
    {
     "name": "stderr",
     "output_type": "stream",
     "text": [
      "INFO:drake:Found Lagrangian multiplier and separating planes\n",
      "INFO:drake:Lagrangian step time 0.067 s\n",
      "INFO:drake:max(power(det(P), 1/1))=7.1573196875555345, solver_time 0.00175718599348329\n",
      "INFO:drake:cost improvement inf\n",
      "INFO:drake:mosek info 0, UnknownError\n",
      "WARNING:drake:Failed to find the polytope at iteration 0\n"
     ]
    },
    {
     "data": {
      "text/plain": [
       "False"
      ]
     },
     "execution_count": 27,
     "metadata": {},
     "output_type": "execute_result"
    }
   ],
   "source": [
    "bil_alt_old_options = rat_fwd.BilinearAlternationOption()\n",
    "bil_alt_old_options.max_iters = 1\n",
    "bil_alt_old_options.num_threads = 1\n",
    "old_certs_P_old = len(cspace_free_region_certifier.CspacePolytopeBilinearAlternation(q_star, set(), \n",
    "                                                               P_old.A(), P_old.b(), \n",
    "                                                               bil_alt_old_options,\n",
    "                                                              solver_options)[-1]) > 0\n",
    "old_certs_P_old"
   ]
  },
  {
   "cell_type": "code",
   "execution_count": 29,
   "metadata": {},
   "outputs": [
    {
     "name": "stderr",
     "output_type": "stream",
     "text": [
      "INFO:drake:Found Lagrangian multiplier and separating planes\n",
      "INFO:drake:max(power(det(P), 1/1))=7.1573196875555345, solver_time 0.0013696019886992872\n"
     ]
    },
    {
     "data": {
      "text/plain": [
       "True"
      ]
     },
     "execution_count": 29,
     "metadata": {},
     "output_type": "execute_result"
    }
   ],
   "source": [
    "binary_search_options_old = rat_fwd.BinarySearchOption()\n",
    "binary_search_options_old.epsilon_max = 0 # it is very unlikely that we can find a uniform expansion of the current region\n",
    "binary_search_options_old.epsilon_min = 0 # it is very unlikely that we can find a uniform expansion of the current region\n",
    "binary_search_options_old.max_iters = 1\n",
    "binary_search_options_old.search_d = False\n",
    "binary_search_options_old.num_threads = 1\n",
    "old_certs_P_old = cspace_free_region_certifier.CspacePolytopeBinarySearch(\n",
    "                                                                     q_star,\n",
    "                                                                     set(),\n",
    "                                                                     P_old.A(),\n",
    "                                                                     P_old.b(),\n",
    "                                                                     binary_search_options_old, \n",
    "                                                                     solver_options,\n",
    "                                                                     seed_point)\n",
    "old_certs_P_old is not None"
   ]
  },
  {
   "cell_type": "code",
   "execution_count": null,
   "metadata": {},
   "outputs": [],
   "source": []
  }
 ],
 "metadata": {
  "interpreter": {
   "hash": "31f2aee4e71d21fbe5cf8b01ff0e069b9275f58929596ceb00d14d90e3e16cd6"
  },
  "kernelspec": {
   "display_name": "Python 3",
   "language": "python",
   "name": "python3"
  },
  "language_info": {
   "codemirror_mode": {
    "name": "ipython",
    "version": 3
   },
   "file_extension": ".py",
   "mimetype": "text/x-python",
   "name": "python",
   "nbconvert_exporter": "python",
   "pygments_lexer": "ipython3",
   "version": "3.8.10"
  }
 },
 "nbformat": 4,
 "nbformat_minor": 2
}
