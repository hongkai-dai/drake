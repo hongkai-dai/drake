{
 "cells": [
  {
   "cell_type": "code",
   "execution_count": 1,
   "metadata": {},
   "outputs": [],
   "source": [
    "%load_ext autoreload"
   ]
  },
  {
   "cell_type": "code",
   "execution_count": 2,
   "metadata": {},
   "outputs": [],
   "source": [
    "import numpy as np\n",
    "from functools import partial\n",
    "import visualizations_utils as viz_utils\n",
    "from iris_plant_visualizer import IrisPlantVisualizer\n",
    "import ipywidgets as widgets\n",
    "from IPython.display import display\n",
    "from scipy.linalg import block_diag\n",
    "import matplotlib.pyplot as plt\n",
    "import cdd\n",
    "import logging"
   ]
  },
  {
   "cell_type": "code",
   "execution_count": 3,
   "metadata": {},
   "outputs": [],
   "source": [
    "#pydrake imports\n",
    "from pydrake.common import FindResourceOrThrow\n",
    "from pydrake.multibody.parsing import Parser\n",
    "from pydrake.multibody.plant import AddMultibodyPlantSceneGraph\n",
    "from pydrake.systems.framework import DiagramBuilder\n",
    "from pydrake.geometry import Role, GeometrySet, CollisionFilterDeclaration\n",
    "from pydrake.solvers import mathematicalprogram as mp\n",
    "from pydrake.all import RigidTransform, RollPitchYaw, RevoluteJoint\n",
    "from pydrake.all import RotationMatrix\n",
    "import time\n",
    "import pydrake.multibody.rational as rational_forward_kinematics\n",
    "from pydrake.all import RationalForwardKinematics\n",
    "from pydrake.geometry.optimization import IrisOptions, IrisInRationalConfigurationSpace, HPolyhedron, Hyperellipsoid\n",
    "from pydrake.solvers import MosekSolver, CommonSolverOption, SolverOptions"
   ]
  },
  {
   "cell_type": "code",
   "execution_count": 4,
   "metadata": {},
   "outputs": [],
   "source": [
    "from pydrake.geometry.optimization_dev import (CspaceFreePolytope, \n",
    "                                               FindPolytopeGivenLagrangianOptions, \n",
    "                                               FindSeparationCertificateGivenPolytopeOptions, \n",
    "                                               BilinearAlternationOptions,\n",
    "                                               BinarySearchOptions,\n",
    "                                               SeparatingPlaneOrder,\n",
    "                                               EllipsoidMarginCost)"
   ]
  },
  {
   "cell_type": "code",
   "execution_count": 5,
   "metadata": {},
   "outputs": [],
   "source": [
    "import pydrake.multibody.rational_forward_kinematics as rat_fwd\n",
    "from pydrake.all import RationalForwardKinematicsOld"
   ]
  },
  {
   "cell_type": "markdown",
   "metadata": {},
   "source": [
    "# Build and set up the visualization the plant and the visualization of the C-space obstacle\n",
    "\n",
    "We first set up a simple 2-DOF system and visualize both the plant and the configuration constraint.Click on the two links at the bottom to view the plant and the configuration space.\n",
    "\n",
    "Note that running this cell multiple times will establish multiple meshcat instances which can fill up your memory. It is a good idea to call \"pkill -f meshcat\" from the command line before re-running this cell\n"
   ]
  },
  {
   "cell_type": "code",
   "execution_count": 6,
   "metadata": {},
   "outputs": [
    {
     "name": "stderr",
     "output_type": "stream",
     "text": [
      "WARNING:drake:/home/amice/.cache/bazel/_bazel_amice/32fdbbecfa8a7ce8feece95e48c42006/execroot/drake/bazel-out/k8-opt/bin/C_Iris_Examples/pinball_iiwas_2d_binary_search_comparison.runfiles/drake/C_Iris_Examples/assets/oneDOF_iiwa7_with_box_collision.sdf:425: warning: Ignoring unsupported SDFormat element in model: plugin\n",
      "WARNING:drake:/home/amice/.cache/bazel/_bazel_amice/32fdbbecfa8a7ce8feece95e48c42006/execroot/drake/bazel-out/k8-opt/bin/C_Iris_Examples/pinball_iiwas_2d_binary_search_comparison.runfiles/drake/C_Iris_Examples/assets/oneDOF_iiwa7_with_box_collision.sdf:37: warning: Ignoring unsupported SDFormat element in link: self_collide\n",
      "WARNING:drake:/home/amice/.cache/bazel/_bazel_amice/32fdbbecfa8a7ce8feece95e48c42006/execroot/drake/bazel-out/k8-opt/bin/C_Iris_Examples/pinball_iiwas_2d_binary_search_comparison.runfiles/drake/C_Iris_Examples/assets/oneDOF_iiwa7_with_box_collision.sdf:73: warning: Ignoring unsupported SDFormat element in link: self_collide\n",
      "WARNING:drake:/home/amice/.cache/bazel/_bazel_amice/32fdbbecfa8a7ce8feece95e48c42006/execroot/drake/bazel-out/k8-opt/bin/C_Iris_Examples/pinball_iiwas_2d_binary_search_comparison.runfiles/drake/C_Iris_Examples/assets/oneDOF_iiwa7_with_box_collision.sdf:128: warning: Ignoring unsupported SDFormat element in link: self_collide\n",
      "WARNING:drake:/home/amice/.cache/bazel/_bazel_amice/32fdbbecfa8a7ce8feece95e48c42006/execroot/drake/bazel-out/k8-opt/bin/C_Iris_Examples/pinball_iiwas_2d_binary_search_comparison.runfiles/drake/C_Iris_Examples/assets/oneDOF_iiwa7_with_box_collision.sdf:183: warning: Ignoring unsupported SDFormat element in link: self_collide\n",
      "WARNING:drake:/home/amice/.cache/bazel/_bazel_amice/32fdbbecfa8a7ce8feece95e48c42006/execroot/drake/bazel-out/k8-opt/bin/C_Iris_Examples/pinball_iiwas_2d_binary_search_comparison.runfiles/drake/C_Iris_Examples/assets/oneDOF_iiwa7_with_box_collision.sdf:238: warning: Ignoring unsupported SDFormat element in link: self_collide\n",
      "WARNING:drake:/home/amice/.cache/bazel/_bazel_amice/32fdbbecfa8a7ce8feece95e48c42006/execroot/drake/bazel-out/k8-opt/bin/C_Iris_Examples/pinball_iiwas_2d_binary_search_comparison.runfiles/drake/C_Iris_Examples/assets/oneDOF_iiwa7_with_box_collision.sdf:293: warning: Ignoring unsupported SDFormat element in link: self_collide\n",
      "WARNING:drake:/home/amice/.cache/bazel/_bazel_amice/32fdbbecfa8a7ce8feece95e48c42006/execroot/drake/bazel-out/k8-opt/bin/C_Iris_Examples/pinball_iiwas_2d_binary_search_comparison.runfiles/drake/C_Iris_Examples/assets/oneDOF_iiwa7_with_box_collision.sdf:348: warning: Ignoring unsupported SDFormat element in link: self_collide\n",
      "WARNING:drake:/home/amice/.cache/bazel/_bazel_amice/32fdbbecfa8a7ce8feece95e48c42006/execroot/drake/bazel-out/k8-opt/bin/C_Iris_Examples/pinball_iiwas_2d_binary_search_comparison.runfiles/drake/C_Iris_Examples/assets/oneDOF_iiwa7_with_box_collision.sdf:403: warning: Ignoring unsupported SDFormat element in link: self_collide\n",
      "WARNING:drake:/home/amice/.cache/bazel/_bazel_amice/32fdbbecfa8a7ce8feece95e48c42006/execroot/drake/bazel-out/k8-opt/bin/C_Iris_Examples/pinball_iiwas_2d_binary_search_comparison.runfiles/drake/C_Iris_Examples/assets/oneDOF_iiwa7_with_box_collision.sdf:425: warning: Ignoring unsupported SDFormat element in model: plugin\n",
      "WARNING:drake:/home/amice/.cache/bazel/_bazel_amice/32fdbbecfa8a7ce8feece95e48c42006/execroot/drake/bazel-out/k8-opt/bin/C_Iris_Examples/pinball_iiwas_2d_binary_search_comparison.runfiles/drake/C_Iris_Examples/assets/oneDOF_iiwa7_with_box_collision.sdf:37: warning: Ignoring unsupported SDFormat element in link: self_collide\n",
      "WARNING:drake:/home/amice/.cache/bazel/_bazel_amice/32fdbbecfa8a7ce8feece95e48c42006/execroot/drake/bazel-out/k8-opt/bin/C_Iris_Examples/pinball_iiwas_2d_binary_search_comparison.runfiles/drake/C_Iris_Examples/assets/oneDOF_iiwa7_with_box_collision.sdf:73: warning: Ignoring unsupported SDFormat element in link: self_collide\n",
      "WARNING:drake:/home/amice/.cache/bazel/_bazel_amice/32fdbbecfa8a7ce8feece95e48c42006/execroot/drake/bazel-out/k8-opt/bin/C_Iris_Examples/pinball_iiwas_2d_binary_search_comparison.runfiles/drake/C_Iris_Examples/assets/oneDOF_iiwa7_with_box_collision.sdf:128: warning: Ignoring unsupported SDFormat element in link: self_collide\n",
      "WARNING:drake:/home/amice/.cache/bazel/_bazel_amice/32fdbbecfa8a7ce8feece95e48c42006/execroot/drake/bazel-out/k8-opt/bin/C_Iris_Examples/pinball_iiwas_2d_binary_search_comparison.runfiles/drake/C_Iris_Examples/assets/oneDOF_iiwa7_with_box_collision.sdf:183: warning: Ignoring unsupported SDFormat element in link: self_collide\n",
      "WARNING:drake:/home/amice/.cache/bazel/_bazel_amice/32fdbbecfa8a7ce8feece95e48c42006/execroot/drake/bazel-out/k8-opt/bin/C_Iris_Examples/pinball_iiwas_2d_binary_search_comparison.runfiles/drake/C_Iris_Examples/assets/oneDOF_iiwa7_with_box_collision.sdf:238: warning: Ignoring unsupported SDFormat element in link: self_collide\n",
      "WARNING:drake:/home/amice/.cache/bazel/_bazel_amice/32fdbbecfa8a7ce8feece95e48c42006/execroot/drake/bazel-out/k8-opt/bin/C_Iris_Examples/pinball_iiwas_2d_binary_search_comparison.runfiles/drake/C_Iris_Examples/assets/oneDOF_iiwa7_with_box_collision.sdf:293: warning: Ignoring unsupported SDFormat element in link: self_collide\n",
      "WARNING:drake:/home/amice/.cache/bazel/_bazel_amice/32fdbbecfa8a7ce8feece95e48c42006/execroot/drake/bazel-out/k8-opt/bin/C_Iris_Examples/pinball_iiwas_2d_binary_search_comparison.runfiles/drake/C_Iris_Examples/assets/oneDOF_iiwa7_with_box_collision.sdf:348: warning: Ignoring unsupported SDFormat element in link: self_collide\n",
      "WARNING:drake:/home/amice/.cache/bazel/_bazel_amice/32fdbbecfa8a7ce8feece95e48c42006/execroot/drake/bazel-out/k8-opt/bin/C_Iris_Examples/pinball_iiwas_2d_binary_search_comparison.runfiles/drake/C_Iris_Examples/assets/oneDOF_iiwa7_with_box_collision.sdf:403: warning: Ignoring unsupported SDFormat element in link: self_collide\n",
      "INFO:drake:Meshcat listening for connections at http://localhost:7000\n",
      "INFO:drake:Meshcat listening for connections at http://localhost:7001\n",
      "/home/amice/Documents/coding_projects/drake/C_Iris_Examples/iris_plant_visualizer.py:70: DrakeDeprecationWarning: (Deprecated) See ForcedPublish() \n",
      "*/ (Deprecated.)\n",
      "\n",
      "Deprecated:\n",
      "    Use ForcedPublish() instead This will be removed from Drake on or\n",
      "    after 2023-03-01.\n",
      "  self.diagram.Publish(self.diagram_context)\n"
     ]
    }
   ],
   "source": [
    "#construct our robot\n",
    "builder = DiagramBuilder()\n",
    "plant, scene_graph = AddMultibodyPlantSceneGraph(builder, time_step=0.001)\n",
    "parser = Parser(plant)\n",
    "oneDOF_iiwa_asset = FindResourceOrThrow(\"drake/C_Iris_Examples/assets/oneDOF_iiwa7_with_box_collision.sdf\")\n",
    "\n",
    "box_asset = FindResourceOrThrow(\"drake/C_Iris_Examples/assets/box_small.urdf\")\n",
    "\n",
    "models = []\n",
    "models.append(parser.AddModelFromFile(box_asset))\n",
    "models.append(parser.AddModelFromFile(oneDOF_iiwa_asset, 'right_sweeper'))\n",
    "models.append(parser.AddModelFromFile(oneDOF_iiwa_asset, 'left_sweeper'))\n",
    "locs = [[0.,0.,0.],\n",
    "        [0,1,0.85],\n",
    "        [0,-1,0.55]]\n",
    "plant.WeldFrames(plant.world_frame(), \n",
    "                 plant.GetFrameByName(\"base\", models[0]),\n",
    "                 RigidTransform(locs[0]))\n",
    "\n",
    "t1 = RigidTransform(RollPitchYaw([np.pi/2, 0, 0]).ToRotationMatrix(), locs[1])@RigidTransform(RollPitchYaw([0, 0, np.pi/2]), np.zeros(3))\n",
    "t2 = RigidTransform(RollPitchYaw([-np.pi/2, 0, 0]).ToRotationMatrix(), locs[2])@RigidTransform(RollPitchYaw([0, 0, np.pi/2]), np.zeros(3))\n",
    "plant.WeldFrames(plant.world_frame(), \n",
    "                 plant.GetFrameByName(\"iiwa_oneDOF_link_0\", models[1]), \n",
    "                 t1)\n",
    "plant.WeldFrames(plant.world_frame(), \n",
    "                 plant.GetFrameByName(\"iiwa_oneDOF_link_0\", models[2]), \n",
    "                 t2)\n",
    "\n",
    "\n",
    "plant.Finalize()\n",
    "idx = 0\n",
    "q0 = [0.0, 0.0]\n",
    "val = 1.7\n",
    "q_low  = [-val, -val, 0]\n",
    "q_high = [val, val,  0]\n",
    "# set the joint limits of the plant\n",
    "for model in models:\n",
    "    for joint_index in plant.GetJointIndices(model):\n",
    "        joint = plant.get_mutable_joint(joint_index)\n",
    "        if isinstance(joint, RevoluteJoint):\n",
    "            joint.set_default_angle(q0[idx])\n",
    "            joint.set_position_limits(lower_limits= np.array([q_low[idx]]), upper_limits= np.array([q_high[idx]]))\n",
    "            idx += 1\n",
    "        \n",
    "# construct the RationalForwardKinematics of this plant. This object handles the\n",
    "# computations for the forward kinematics in the tangent-configuration space\n",
    "Ratfk = RationalForwardKinematics(plant)\n",
    "\n",
    "# the point about which we will take the stereographic projections\n",
    "q_star = np.zeros(3)\n",
    "\n",
    "#compute limits in t-space\n",
    "limits_s = []\n",
    "for q in [q_low, q_high]:\n",
    "    limits_s.append(Ratfk.ComputeSValue(np.array(q), q_star)[:2])\n",
    "\n",
    "do_viz = True\n",
    "\n",
    "# This line builds the visualization. Change the viz_role to Role.kIllustration if you\n",
    "# want to see the plant with its illustrated geometry or to Role.kProximity if you want\n",
    "# to see the plant with the collision geometries.\n",
    "visualizer = IrisPlantVisualizer(plant, builder, scene_graph, viz_role=Role.kIllustration)\n",
    "visualizer.visualize_collision_constraint2d(factor = 1.2, num_points = 100)\n",
    "visualizer.meshcat2.Set2dRenderMode(RigidTransform(RotationMatrix.MakeZRotation(0), np.array([0,0,1])))\n",
    "visualizer.meshcat1.Set2dRenderMode(RigidTransform(RotationMatrix.MakeZRotation(0), np.array([1,0,0])))\n",
    "\n",
    "context = visualizer.diagram_context\n",
    "diagram = visualizer.diagram"
   ]
  },
  {
   "cell_type": "markdown",
   "metadata": {},
   "source": [
    "## Set up the sliders so we can move the plant around manually\n",
    "\n",
    "You can use the sliders below to move the two degrees of freedom of the plant around. A green dot will appear in the TC-space visualization describing the current TC-space configuration."
   ]
  },
  {
   "cell_type": "code",
   "execution_count": 7,
   "metadata": {
    "scrolled": false
   },
   "outputs": [
    {
     "data": {
      "application/vnd.jupyter.widget-view+json": {
       "model_id": "f5f9f82e0b0a41bdb202f4ad11a6c128",
       "version_major": 2,
       "version_minor": 0
      },
      "text/plain": [
       "FloatSlider(value=0.0, description='q0', max=1.7, min=-1.7)"
      ]
     },
     "metadata": {},
     "output_type": "display_data"
    },
    {
     "data": {
      "application/vnd.jupyter.widget-view+json": {
       "model_id": "f0fbf40b62ba4bcb9067e1fb9057fce1",
       "version_major": 2,
       "version_minor": 0
      },
      "text/plain": [
       "FloatSlider(value=0.0, description='q1', max=1.7, min=-1.7)"
      ]
     },
     "metadata": {},
     "output_type": "display_data"
    }
   ],
   "source": [
    "sliders = []\n",
    "sliders.append(widgets.FloatSlider(min=q_low[0], max=q_high[0], value=0, description='q0'))\n",
    "sliders.append(widgets.FloatSlider(min=q_low[1], max=q_high[1], value=0, description='q1'))\n",
    "\n",
    "q = q0.copy()\n",
    "def handle_slider_change(change, idx):\n",
    "    q[idx] = change['new']\n",
    "    #print(q, end=\"\\r\")\n",
    "    visualizer.showres(q)\n",
    "    visualizer.visualize_planes()\n",
    "    \n",
    "idx = 0\n",
    "for slider in sliders:\n",
    "    slider.observe(partial(handle_slider_change, idx = idx), names='value')\n",
    "    idx+=1\n",
    "\n",
    "for slider in sliders:\n",
    "    display(slider)\n"
   ]
  },
  {
   "cell_type": "code",
   "execution_count": 8,
   "metadata": {
    "scrolled": true
   },
   "outputs": [],
   "source": [
    "# # filter fused joints self collisions so they don't interfere with collision engine\n",
    "# digaram = visualizer.diagram\n",
    "# context = visualizer.diagram_context\n",
    "# sg_context = scene_graph.GetMyContextFromRoot(context)\n",
    "# inspector = scene_graph.model_inspector()\n",
    "\n",
    "# pairs = scene_graph.get_query_output_port().Eval(sg_context).inspector().GetCollisionCandidates()\n",
    "\n",
    "# gids = [gid for gid in inspector.GetGeometryIds(GeometrySet(inspector.GetAllGeometryIds()), Role.kProximity)]\n",
    "# get_name_of_gid = lambda gid : inspector.GetName(gid)\n",
    "# gids.sort(key=get_name_of_gid)\n",
    "# right_sweeper_gids = [gid for gid in gids if \"right_sweeper::\" in get_name_of_gid(gid)]\n",
    "# left_sweeper_gids = [gid for gid in gids if \"left_sweeper::\" in get_name_of_gid(gid)]\n",
    "\n",
    "# right_sweeper_fused_col_geom = right_sweeper_gids[2:]\n",
    "# right_sweeper_fused_set = GeometrySet(right_sweeper_fused_col_geom)\n",
    "# left_sweeper_fused_col_geom = left_sweeper_gids[4:]\n",
    "# left_sweeper_fused_set = GeometrySet(left_sweeper_fused_col_geom)\n",
    "# scene_graph.collision_filter_manager()\\\n",
    "#             .Apply(CollisionFilterDeclaration().ExcludeWithin(right_sweeper_fused_set))\n",
    "# scene_graph.collision_filter_manager()\\\n",
    "#             .Apply(CollisionFilterDeclaration().ExcludeWithin(left_sweeper_fused_set))\n",
    "\n",
    "# right_sweeper_end_gid = right_sweeper_gids[-1]\n",
    "# left_sweeper_end_gid = left_sweeper_gids[-1]\n",
    "# id_pairs_of_interest = [(right_sweeper_end_gid, left_sweeper_end_gid),\n",
    "#                        ]\n",
    "# visualizer.collision_pairs_of_interest = id_pairs_of_interest\n"
   ]
  },
  {
   "cell_type": "markdown",
   "metadata": {},
   "source": [
    "# Generate and Certify Regions\n",
    "\n",
    "Around some nominal seed postures, we will grow certified regions by seeding our alternation algorithm using a small initial polytope."
   ]
  },
  {
   "cell_type": "code",
   "execution_count": 9,
   "metadata": {},
   "outputs": [],
   "source": [
    "# Some seedpoints\n",
    "seed_points_q = np.array([   [0.0, 0],\n",
    "                              [0.7, -0.9],\n",
    "                              [-0.5, -0.5],\n",
    "                              [0.4,-1.3]\n",
    "                              ])\n",
    "seed_points = np.array([Ratfk.ComputeSValue(seed_points_q[idx], np.zeros((2,)))\\\n",
    "                        for idx in range(seed_points_q.shape[0])])\n",
    "if do_viz:\n",
    "    visualizer.plot_seedpoints(seed_points)\n",
    "    \n",
    "\n",
    "\n",
    "default_scale = 1e-2\n",
    "L1_ball = HPolyhedron.MakeL1Ball(2)\n",
    "Linf_ball = HPolyhedron.MakeBox(-np.ones(2), np.ones(2))\n",
    "\n",
    "template_C = np.vstack([L1_ball.A(), Linf_ball.A()])\n",
    "template_d = np.hstack([default_scale*L1_ball.b(), default_scale/np.sqrt(2)*Linf_ball.b()])\n",
    "\n",
    "\n",
    "def make_default_polytope_at_point(seed_point):\n",
    "    return HPolyhedron(template_C, template_d + template_C @ seed_point)\n",
    "\n",
    "\n",
    "# colors to plot the region. Chosen for color-blind compatibility\n",
    "colors_dict = {\n",
    "    0: (144,144,144),\n",
    "    1:(30,136,229), # bluish\n",
    "    2: (255, 193, 7), # gold\n",
    "    3: (0, 140, 6), # green    \n",
    "}"
   ]
  },
  {
   "cell_type": "code",
   "execution_count": 10,
   "metadata": {},
   "outputs": [],
   "source": [
    "# set up the certifier and the options for different search techniques\n",
    "solver_options = SolverOptions()\n",
    "solver_options.SetOption(CommonSolverOption.kPrintToConsole, 1)\n",
    "\n",
    "\n",
    "find_polytope_given_lagrangian_option = FindPolytopeGivenLagrangianOptions()\n",
    "find_polytope_given_lagrangian_option.solver_options = solver_options\n",
    "find_polytope_given_lagrangian_option.ellipsoid_margin_cost = EllipsoidMarginCost.kGeometricMean\n",
    "find_polytope_given_lagrangian_option.search_s_bounds_lagrangians = False\n",
    "\n",
    "find_separation_certificate_given_polytope_options = FindSeparationCertificateGivenPolytopeOptions()\n",
    "find_separation_certificate_given_polytope_options.num_threads = -1\n",
    "find_separation_certificate_given_polytope_options.verbose = False\n",
    "find_separation_certificate_given_polytope_options.solver_options = solver_options\n",
    "find_separation_certificate_given_polytope_options.ignore_redundant_C = True\n",
    "\n",
    "bilinear_alternation_options = BilinearAlternationOptions()\n",
    "bilinear_alternation_options.max_iter = 20\n",
    "bilinear_alternation_options.convergence_tol = 1e-5\n",
    "bilinear_alternation_options.find_polytope_options = find_polytope_given_lagrangian_option\n",
    "bilinear_alternation_options.find_lagrangian_options = find_separation_certificate_given_polytope_options\n",
    "\n",
    "binary_search_options = BinarySearchOptions()\n",
    "binary_search_options.find_lagrangian_options = find_separation_certificate_given_polytope_options\n",
    "binary_search_options.scale_min = 1\n",
    "binary_search_options.scale_max = 100\n",
    "binary_search_options.max_iter = 50\n",
    "\n",
    "\n",
    "cspace_free_polytope = CspaceFreePolytope(plant, scene_graph, SeparatingPlaneOrder.kAffine, q_star)"
   ]
  },
  {
   "cell_type": "code",
   "execution_count": 11,
   "metadata": {},
   "outputs": [],
   "source": [
    "# set up old certifier\n",
    "cspace_free_region_certifier = rat_fwd.CspaceFreeRegion(diagram, plant, scene_graph,\n",
    "                                   rat_fwd.SeparatingPlaneOrderOld.kAffine,\n",
    "                                   rat_fwd.CspaceRegionType.kGenericPolytope)"
   ]
  },
  {
   "cell_type": "markdown",
   "metadata": {},
   "source": [
    "## Seeding and Certifying with a Stronger Heuristic\n",
    "We have also implemented another, strong heuristic for proposing good initial regions based on non-linear optimization. See Appendix TODO of our paper TODO for details"
   ]
  },
  {
   "cell_type": "code",
   "execution_count": 12,
   "metadata": {},
   "outputs": [],
   "source": [
    "iris_regions = []\n",
    "iris_ellipses = []\n",
    "\n",
    "iris_options = IrisOptions()\n",
    "iris_options.require_sample_point_is_contained = True\n",
    "iris_options.configuration_space_margin = 1e-3\n",
    "iris_options.relative_termination_threshold = 0.001\n",
    "\n",
    "def promote_region_to_3d(region, width = 0.2):\n",
    "    A = block_diag(region.A(), np.array([-1,1])[:, np.newaxis])\n",
    "    b = np.append(region.b(), width*np.ones(2))\n",
    "\n",
    "    return HPolyhedron(A,b)\n",
    "    \n",
    "for i, s in enumerate(seed_points):\n",
    "    q = Ratfk.ComputeQValue(s, np.zeros((2,)))\n",
    "    plant.SetPositions(plant.GetMyMutableContextFromRoot(context), q)\n",
    "    r = IrisInRationalConfigurationSpace(plant, plant.GetMyContextFromRoot(context), q_star, iris_options)\n",
    "    iris_regions.append(r)\n",
    "    iris_ellipses.append(r.MaximumVolumeInscribedEllipsoid)\n",
    "    \n",
    "\n",
    "if do_viz:\n",
    "    visualizer.plot_regions(iris_regions,\n",
    "                            region_suffix='_iris_regions',\n",
    "                            colors = list(colors_dict.values()),\n",
    "                            wireframe = False,\n",
    "                           opacity = 0.2)"
   ]
  },
  {
   "cell_type": "markdown",
   "metadata": {},
   "source": [
    "### These regions tend to be very large, but typically are not completely collision free. We can use the binary search method to find a uniform shrinking of these regions to prove their safety and then again improve them with bilinear alternations."
   ]
  },
  {
   "cell_type": "code",
   "execution_count": 13,
   "metadata": {},
   "outputs": [],
   "source": [
    "binary_search_options_for_iris = BinarySearchOptions()\n",
    "binary_search_options_for_iris.find_lagrangian_options = find_separation_certificate_given_polytope_options\n",
    "binary_search_options_for_iris.max_iter = 50"
   ]
  },
  {
   "cell_type": "code",
   "execution_count": null,
   "metadata": {},
   "outputs": [
    {
     "name": "stderr",
     "output_type": "stream",
     "text": [
      "INFO:drake:CspaceFreePolytope::BinarySearch(): scale=0.505 is infeasible\n",
      "INFO:drake:CspaceFreePolytope::BinarySearch(): scale=0.2575 is feasible\n"
     ]
    },
    {
     "name": "stdout",
     "output_type": "stream",
     "text": [
      "starting seedpoint 1/4\n"
     ]
    },
    {
     "name": "stderr",
     "output_type": "stream",
     "text": [
      "INFO:drake:CspaceFreePolytope::BinarySearch(): scale=0.38125 is infeasible\n",
      "INFO:drake:CspaceFreePolytope::BinarySearch(): scale=0.31937499999999996 is infeasible\n",
      "INFO:drake:CspaceFreePolytope::BinarySearch(): scale=0.2884375 is feasible\n",
      "INFO:drake:CspaceFreePolytope::BinarySearch(): scale=0.30390625 is feasible\n",
      "INFO:drake:CspaceFreePolytope::BinarySearch(): scale=0.311640625 is infeasible\n",
      "INFO:drake:CspaceFreePolytope::BinarySearch(): scale=0.30777343749999997 is infeasible\n",
      "INFO:drake:CspaceFreePolytope::BinarySearch(): scale=0.30583984374999995 is infeasible\n",
      "INFO:drake:CspaceFreePolytope::BinarySearch(): scale=0.30487304687499994 is infeasible\n",
      "INFO:drake:CspaceFreePolytope::BinarySearch(): scale=0.505 is feasible\n"
     ]
    },
    {
     "name": "stdout",
     "output_type": "stream",
     "text": [
      "starting seedpoint 2/4\n"
     ]
    },
    {
     "name": "stderr",
     "output_type": "stream",
     "text": [
      "INFO:drake:CspaceFreePolytope::BinarySearch(): scale=0.7525 is feasible\n",
      "INFO:drake:CspaceFreePolytope::BinarySearch(): scale=0.87625 is feasible\n",
      "INFO:drake:CspaceFreePolytope::BinarySearch(): scale=0.938125 is feasible\n",
      "INFO:drake:CspaceFreePolytope::BinarySearch(): scale=0.9690624999999999 is infeasible\n",
      "INFO:drake:CspaceFreePolytope::BinarySearch(): scale=0.95359375 is feasible\n",
      "INFO:drake:CspaceFreePolytope::BinarySearch(): scale=0.961328125 is infeasible\n",
      "INFO:drake:CspaceFreePolytope::BinarySearch(): scale=0.9574609375 is feasible\n",
      "INFO:drake:CspaceFreePolytope::BinarySearch(): scale=0.9593945312500001 is infeasible\n",
      "INFO:drake:CspaceFreePolytope::BinarySearch(): scale=0.9584277343750001 is infeasible\n",
      "INFO:drake:CspaceFreePolytope::BinarySearch(): scale=0.505 is infeasible\n"
     ]
    },
    {
     "name": "stdout",
     "output_type": "stream",
     "text": [
      "starting seedpoint 3/4\n"
     ]
    },
    {
     "name": "stderr",
     "output_type": "stream",
     "text": [
      "INFO:drake:CspaceFreePolytope::BinarySearch(): scale=0.2575 is feasible\n"
     ]
    }
   ],
   "source": [
    "binary_search_region_certificates_for_iris = dict.fromkeys([tuple(s) for s in seed_points])\n",
    "bin_sect_regions = []\n",
    "for i, (s, initial_region) in enumerate(zip(seed_points, iris_regions)):\n",
    "    print(f\"starting seedpoint {i+1}/{len(iris_regions)}\")\n",
    "    certificate = cspace_free_polytope.BinarySearch(set(),\n",
    "                                                    initial_region.A(),\n",
    "                                                    initial_region.b(), \n",
    "                                                    initial_region.MaximumVolumeInscribedEllipsoid().center(), \n",
    "                                                    binary_search_options_for_iris)\n",
    "    bin_sect_regions.append(HPolyhedron(certificate.C, certificate.d))\n",
    "    binary_search_region_certificates_for_iris[tuple(s)] = [HPolyhedron(certificate.C, certificate.d)]"
   ]
  },
  {
   "cell_type": "code",
   "execution_count": null,
   "metadata": {},
   "outputs": [],
   "source": [
    "if do_viz:\n",
    "    visualizer.plot_regions(bin_sect_regions, ellipses=None,\n",
    "                            region_suffix='_certified_region_contraction',\n",
    "                            wireframe = False)"
   ]
  },
  {
   "cell_type": "markdown",
   "metadata": {},
   "source": [
    "## Now compare to the old methods"
   ]
  },
  {
   "cell_type": "code",
   "execution_count": 16,
   "metadata": {},
   "outputs": [
    {
     "name": "stderr",
     "output_type": "stream",
     "text": [
      "INFO:drake:Lagrangian SOS takes 0.5071902630152181 seconds\n",
      "INFO:drake:max(power(det(P), 1/2))=0.23758606874481192, solver_time 0.003817720920778811\n",
      "INFO:drake:Lagrangian SOS takes 0.39782596100121737 seconds\n"
     ]
    },
    {
     "name": "stdout",
     "output_type": "stream",
     "text": [
      "0\n",
      "1\n"
     ]
    },
    {
     "name": "stderr",
     "output_type": "stream",
     "text": [
      "INFO:drake:max(power(det(P), 1/2))=0.15437670455929708, solver_time 0.002657189965248108\n",
      "INFO:drake:Lagrangian SOS takes 0.6421656389720738 seconds\n",
      "INFO:drake:max(power(det(P), 1/2))=0.40893539393457645, solver_time 0.0029612310463562608\n"
     ]
    },
    {
     "name": "stdout",
     "output_type": "stream",
     "text": [
      "2\n",
      "3\n"
     ]
    },
    {
     "name": "stderr",
     "output_type": "stream",
     "text": [
      "INFO:drake:Lagrangian SOS takes 0.35651976405642927 seconds\n",
      "INFO:drake:max(power(det(P), 1/2))=0.40258822396387683, solver_time 0.002383299986831844\n"
     ]
    }
   ],
   "source": [
    "i = 0\n",
    "bisect_regions = []\n",
    "bisect_solutions = []\n",
    "for i in range(len(iris_regions)):\n",
    "    print(i)\n",
    "    region_to_certify = iris_regions[i]\n",
    "    seed_point = seed_points[i,:]\n",
    "\n",
    "\n",
    "    binary_search_options_old = rat_fwd.BinarySearchOption()\n",
    "    binary_search_options_old.epsilon_max = 0 # it is very unlikely that we can find a uniform expansion of the current region\n",
    "    binary_search_options_old.max_iters = 15\n",
    "    # speed up the bisection search by taking non-uniform steps when possible\n",
    "    binary_search_options_old.search_d = False #set false for fairness\n",
    "    # find the smallest e such that At <= b + e1 still contains our seed point.\n",
    "    binary_search_options_old.epsilon_min = rat_fwd.FindEpsilonLower(region_to_certify.A(),\n",
    "                                                                                     region_to_certify.b(),\n",
    "                                                                                     limits_s[0], limits_s[1],\n",
    "                                                                                     seed_point)\n",
    "    #use as many threads as possible to speed up computation\n",
    "#     binary_search_options.num_threads = 1\n",
    "\n",
    "    certified_region_contraction_solution = cspace_free_region_certifier.CspacePolytopeBinarySearch(\n",
    "                                                                     q_star[:2],\n",
    "                                                                     set(),\n",
    "                                                                     region_to_certify.A(),\n",
    "                                                                     region_to_certify.b(),\n",
    "                                                                     binary_search_options_old, \n",
    "                                                                     solver_options,\n",
    "                                                                     seed_point)\n",
    "    bisect_solutions.append(certified_region_contraction_solution)\n",
    "    certified_region_contraction = HPolyhedron(certified_region_contraction_solution.C,\n",
    "                                               certified_region_contraction_solution.d)\n",
    "    \n",
    "    bisect_regions.append(promote_region_to_3d(certified_region_contraction))\n",
    "if do_viz:\n",
    "    visualizer.plot_regions(bisect_regions, ellipses=None,\n",
    "                            region_suffix='_certified_region_contraction',\n",
    "                            wireframe = False)"
   ]
  },
  {
   "cell_type": "code",
   "execution_count": null,
   "metadata": {},
   "outputs": [],
   "source": []
  }
 ],
 "metadata": {
  "interpreter": {
   "hash": "31f2aee4e71d21fbe5cf8b01ff0e069b9275f58929596ceb00d14d90e3e16cd6"
  },
  "kernelspec": {
   "display_name": "Python 3",
   "language": "python",
   "name": "python3"
  },
  "language_info": {
   "codemirror_mode": {
    "name": "ipython",
    "version": 3
   },
   "file_extension": ".py",
   "mimetype": "text/x-python",
   "name": "python",
   "nbconvert_exporter": "python",
   "pygments_lexer": "ipython3",
   "version": "3.8.10"
  }
 },
 "nbformat": 4,
 "nbformat_minor": 2
}
